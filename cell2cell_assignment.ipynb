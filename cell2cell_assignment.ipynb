{
 "cells": [
  {
   "cell_type": "markdown",
   "id": "c02b1f7c-9f4a-4057-903f-4c0f0deb7ceb",
   "metadata": {},
   "source": [
    "### Cell2Cell Churn Management Assignment\n",
    "\n",
    "This case requires you to develop a model for predicting customer churn at \"Cell2Cell,\" a fictitious wireless telecom company and use insights from the model to develop an incentive plan for enticing would-be churners to remain with Cell2Cell.\n",
    "\n",
    "The data for the case is a scaled down version of the full database generously donated by an anonymous wireless telephone company. There are still 71,047 customers in the database, and over 65 potential predictors. Logistic regression is the best choice to develop your predictive model.\n",
    "\n",
    "This case requires both statistical analysis and creativity/judgment. I recommend you not spend too much time fine-tuning your predictive model; make sure you spend enough time interpreting and using the results to come up with your plan.\n"
   ]
  },
  {
   "cell_type": "code",
   "execution_count": 1,
   "id": "bf53eca6-b738-48f8-a7d8-fd40c6dfd98a",
   "metadata": {},
   "outputs": [],
   "source": [
    "# Import libraries and dependencies\n",
    "\n",
    "import pandas as pd\n",
    "import mba263\n",
    "import numpy as np\n",
    "import matplotlib.pyplot as plt"
   ]
  },
  {
   "cell_type": "code",
   "execution_count": 2,
   "id": "7bda714c-1d8d-495c-913e-a989ffd710d1",
   "metadata": {},
   "outputs": [],
   "source": [
    "# Import the data\n",
    "\n",
    "data = pd.read_csv('cell2cell.csv')"
   ]
  },
  {
   "cell_type": "code",
   "execution_count": 3,
   "id": "dbd3d455-5a5b-4c31-851a-47dbc37f6f4b",
   "metadata": {},
   "outputs": [],
   "source": [
    "# Browse the data\n",
    "\n",
    "# Run >> data.describe()"
   ]
  },
  {
   "cell_type": "code",
   "execution_count": 4,
   "id": "2da480db-6bb7-4f6b-87aa-85fed30da47e",
   "metadata": {},
   "outputs": [],
   "source": [
    "data_calibration = data[data['calibrat']==1]"
   ]
  },
  {
   "cell_type": "code",
   "execution_count": 5,
   "id": "2ef4bab8-6e81-4322-ad23-2dc573d0a0b4",
   "metadata": {},
   "outputs": [],
   "source": [
    "data_validation = data[data['calibrat']==0]"
   ]
  },
  {
   "cell_type": "code",
   "execution_count": 6,
   "id": "1ad05261-9034-4fda-9b82-70733cc6946f",
   "metadata": {},
   "outputs": [],
   "source": [
    "# Churn rate in calibration set\n",
    "# Run >> data_calibration['churn'].describe()"
   ]
  },
  {
   "cell_type": "code",
   "execution_count": 7,
   "id": "0c3c50c8-7459-4d3b-bb5f-b4a76fac7af3",
   "metadata": {},
   "outputs": [
    {
     "name": "stdout",
     "output_type": "stream",
     "text": [
      "Total churn in calibration set is 20000.0\n"
     ]
    }
   ],
   "source": [
    "# Out of 40000, there are 50% churns or 20000 churns\n",
    "print(f\"Total churn in calibration set is {round(40000*0.5,0)}\")"
   ]
  },
  {
   "cell_type": "code",
   "execution_count": 8,
   "id": "6b3d7926-ab38-45b1-aac7-bc35e7a353fd",
   "metadata": {},
   "outputs": [],
   "source": [
    "# Churn rate in validation set\n",
    "# Run >> data_validation['churn'].describe()"
   ]
  },
  {
   "cell_type": "code",
   "execution_count": 9,
   "id": "d84526b2-6339-4c4c-b373-885c98f80e61",
   "metadata": {},
   "outputs": [
    {
     "name": "stdout",
     "output_type": "stream",
     "text": [
      "Total churn in validation set is 609.0\n"
     ]
    }
   ],
   "source": [
    "# Out of 31047, there are 1.96% churn or 609 churns\n",
    "print(f\"Total churn in validation set is {round(31047*0.019615,0)}\")"
   ]
  },
  {
   "cell_type": "code",
   "execution_count": 10,
   "id": "b8b6d0a6-be2d-404d-befa-8643416f2af0",
   "metadata": {},
   "outputs": [],
   "source": [
    "# Run >> data_calibration.head()"
   ]
  },
  {
   "cell_type": "markdown",
   "id": "200c4456-6956-47bc-b2a4-423e83e201a1",
   "metadata": {},
   "source": [
    "### Which variables are significant in explaining y?"
   ]
  },
  {
   "cell_type": "code",
   "execution_count": 11,
   "id": "f938cdfb-3fdd-4e29-befc-5bd74fea3f93",
   "metadata": {},
   "outputs": [],
   "source": [
    "# varlist = data_calibration.drop(columns = ['customer','churn','calibrat','churndep']).copy()\n",
    "\n",
    "varlist=['revenue','mou','recchrge','overage','roam','changem','changer','unansvce','custcare',\n",
    "         'threeway','incalls','peakvce','months','uniqsubs','actvsubs','phones','eqpdays','age1',\n",
    "         'children','credita','creditaa','refurb','webcap','marryun','newcelly','income','setprcm',\n",
    "         'setprc','retcall']"
   ]
  },
  {
   "cell_type": "code",
   "execution_count": 12,
   "id": "a8bf41c4-57e9-490c-9a7e-3b03eab912d1",
   "metadata": {},
   "outputs": [
    {
     "name": "stdout",
     "output_type": "stream",
     "text": [
      "Optimization terminated successfully.\n",
      "         Current function value: 0.672791\n",
      "         Iterations 5\n"
     ]
    }
   ],
   "source": [
    "# result_calibration_logit = mba263.logit(data_calibration['churn'], varlist)\n",
    "\n",
    "res = mba263.logit(data_calibration['churn'], data_calibration[varlist])"
   ]
  },
  {
   "cell_type": "markdown",
   "id": "9bb29faf-983a-4b30-98fa-6158b71f6489",
   "metadata": {},
   "source": [
    "### Predict on calibration sample"
   ]
  },
  {
   "cell_type": "code",
   "execution_count": 13,
   "id": "7315a8f1-1a2e-49fe-ad93-851fdeab1e36",
   "metadata": {},
   "outputs": [
    {
     "data": {
      "text/plain": [
       "31047    0.767634\n",
       "31048    0.301454\n",
       "31049    0.237737\n",
       "31050    0.505983\n",
       "31051    0.393218\n",
       "Name: predchurn, dtype: float64"
      ]
     },
     "execution_count": 13,
     "metadata": {},
     "output_type": "execute_result"
    }
   ],
   "source": [
    "# data_calibration['predchurn'] = result_calibration_logit.predict(varlist)\n",
    "\n",
    "data_calibration['predchurn'] = res.predict(data_calibration[varlist])\n",
    "\n",
    "data_calibration['predchurn'].head()"
   ]
  },
  {
   "cell_type": "code",
   "execution_count": 14,
   "id": "69d7a205-2bc5-4a00-9dab-b9a746be3661",
   "metadata": {},
   "outputs": [],
   "source": [
    "data_calibration['grading'] = 10 - mba263.ntile(data_calibration['predchurn'],10)"
   ]
  },
  {
   "cell_type": "code",
   "execution_count": 15,
   "id": "e037d4b5-2a78-4cae-8ffa-6d5d402946f5",
   "metadata": {},
   "outputs": [
    {
     "data": {
      "text/plain": [
       "<AxesSubplot:xlabel='grading'>"
      ]
     },
     "execution_count": 15,
     "metadata": {},
     "output_type": "execute_result"
    },
    {
     "data": {
      "image/png": "[encoded data removed]",
      "text/plain": [
       "<Figure size 432x288 with 1 Axes>"
      ]
     },
     "metadata": {
      "needs_background": "light"
     },
     "output_type": "display_data"
    }
   ],
   "source": [
    "data_calibration[['grading','churn']].groupby('grading').mean().plot(kind = 'bar')"
   ]
  },
  {
   "cell_type": "markdown",
   "id": "020bf763-d01d-469c-b2d4-6885527f70c8",
   "metadata": {},
   "source": [
    "### Predict out of sample"
   ]
  },
  {
   "cell_type": "code",
   "execution_count": 16,
   "id": "6267c971-7c05-4b94-8b96-37ac8ded77f1",
   "metadata": {},
   "outputs": [],
   "source": [
    "# varlist_for_validation = data_validation.drop(columns = ['customer','churn','calibrat','churndep']).copy()"
   ]
  },
  {
   "cell_type": "code",
   "execution_count": 17,
   "id": "d7b67663-901b-4460-a618-01c41db00e3d",
   "metadata": {},
   "outputs": [],
   "source": [
    "# result_calibration_logit"
   ]
  },
  {
   "cell_type": "code",
   "execution_count": 18,
   "id": "aeebcb01-1f61-471e-9ec1-2e447b388698",
   "metadata": {},
   "outputs": [],
   "source": [
    "# data_validation['predchurn'] = result_calibration_logit.predict(varlist_for_validation)"
   ]
  },
  {
   "cell_type": "code",
   "execution_count": 19,
   "id": "e17e7ccc-df83-4573-9d84-e5e7140ba3fb",
   "metadata": {},
   "outputs": [],
   "source": [
    "data_validation['predchurn'] = res.predict(data_validation[varlist])"
   ]
  },
  {
   "cell_type": "code",
   "execution_count": 20,
   "id": "1e23fe19-0654-4f3c-9038-6dacbfbfe4d5",
   "metadata": {},
   "outputs": [
    {
     "data": {
      "text/plain": [
       "0    0.240254\n",
       "1    0.201140\n",
       "2    0.349795\n",
       "3    0.306109\n",
       "4    0.344468\n",
       "Name: predchurn, dtype: float64"
      ]
     },
     "execution_count": 20,
     "metadata": {},
     "output_type": "execute_result"
    }
   ],
   "source": [
    "data_validation['predchurn'].head()"
   ]
  },
  {
   "cell_type": "code",
   "execution_count": 21,
   "id": "17c82e40-0275-41ba-99f8-f556015d5749",
   "metadata": {},
   "outputs": [
    {
     "data": {
      "text/plain": [
       "0.47811691141450274"
      ]
     },
     "execution_count": 21,
     "metadata": {},
     "output_type": "execute_result"
    }
   ],
   "source": [
    "data_validation['predchurn'].mean()"
   ]
  },
  {
   "cell_type": "code",
   "execution_count": 22,
   "id": "71f0c52e-91ba-48c2-b9cf-d8f8097fb4b6",
   "metadata": {},
   "outputs": [
    {
     "data": {
      "text/plain": [
       "0.019615421779882115"
      ]
     },
     "execution_count": 22,
     "metadata": {},
     "output_type": "execute_result"
    }
   ],
   "source": [
    "data_validation['churn'].mean()"
   ]
  },
  {
   "cell_type": "markdown",
   "id": "1d74223b-5711-4623-8cbf-9ac11ca71ae5",
   "metadata": {},
   "source": [
    "### Segmentation"
   ]
  },
  {
   "cell_type": "code",
   "execution_count": 23,
   "id": "3d2d598c-8050-48f5-99c6-a9fefb91ff02",
   "metadata": {},
   "outputs": [],
   "source": [
    "data_validation['grading'] = 10 - mba263.ntile(data_validation['predchurn'],10)"
   ]
  },
  {
   "cell_type": "code",
   "execution_count": 24,
   "id": "7bfba123-3f12-4144-adf8-ada9547dcb59",
   "metadata": {},
   "outputs": [
    {
     "data": {
      "text/plain": [
       "0    10.0\n",
       "1    10.0\n",
       "2    10.0\n",
       "3    10.0\n",
       "4    10.0\n",
       "5     4.0\n",
       "6     7.0\n",
       "Name: grading, dtype: float64"
      ]
     },
     "execution_count": 24,
     "metadata": {},
     "output_type": "execute_result"
    }
   ],
   "source": [
    "data_validation['grading'].head(7)"
   ]
  },
  {
   "cell_type": "markdown",
   "id": "b015abcd-21cc-43b9-ad16-6362d81cd793",
   "metadata": {},
   "source": [
    "### Performance out of sample"
   ]
  },
  {
   "cell_type": "code",
   "execution_count": 25,
   "id": "9def797c-9eae-40c8-9c2d-331c75582c45",
   "metadata": {},
   "outputs": [
    {
     "data": {
      "text/plain": [
       "<AxesSubplot:xlabel='grading'>"
      ]
     },
     "execution_count": 25,
     "metadata": {},
     "output_type": "execute_result"
    },
    {
     "data": {
      "image/png": "[encoded data removed]",
      "text/plain": [
       "<Figure size 432x288 with 1 Axes>"
      ]
     },
     "metadata": {
      "needs_background": "light"
     },
     "output_type": "display_data"
    }
   ],
   "source": [
    "data_validation[['grading','churn']].groupby('grading').mean().plot(kind = 'bar')"
   ]
  },
  {
   "cell_type": "code",
   "execution_count": 26,
   "id": "e6e4f198-d266-4148-9ba9-e4384386f243",
   "metadata": {},
   "outputs": [
    {
     "data": {
      "text/plain": [
       "<AxesSubplot:xlabel='grading'>"
      ]
     },
     "execution_count": 26,
     "metadata": {},
     "output_type": "execute_result"
    },
    {
     "data": {
      "image/png": "[encoded data removed]",
      "text/plain": [
       "<Figure size 432x288 with 1 Axes>"
      ]
     },
     "metadata": {
      "needs_background": "light"
     },
     "output_type": "display_data"
    }
   ],
   "source": [
    "data_calibration[['grading','churn']].groupby('grading').mean().plot(kind = 'bar')"
   ]
  },
  {
   "cell_type": "code",
   "execution_count": 27,
   "id": "5e5d2d11-39cf-429d-ab18-b006312f96d8",
   "metadata": {},
   "outputs": [],
   "source": [
    "gain_calibration = mba263.gain(data_calibration['churn'],data_calibration['predchurn'],10)\n",
    "gain_validation = mba263.gain(data_validation['churn'],data_validation['predchurn'],10)"
   ]
  },
  {
   "cell_type": "code",
   "execution_count": 28,
   "id": "bad86d3a-c70b-4630-bb4f-b76399a99e61",
   "metadata": {},
   "outputs": [
    {
     "data": {
      "text/plain": [
       "[<matplotlib.lines.Line2D at 0x7f8fdf3f66d0>]"
      ]
     },
     "execution_count": 28,
     "metadata": {},
     "output_type": "execute_result"
    },
    {
     "data": {
      "image/png": "[encoded data removed]",
      "text/plain": [
       "<Figure size 432x288 with 1 Axes>"
      ]
     },
     "metadata": {
      "needs_background": "light"
     },
     "output_type": "display_data"
    }
   ],
   "source": [
    "plt.plot(gain_calibration,'r')\n",
    "plt.plot(gain_validation,'g')"
   ]
  },
  {
   "cell_type": "markdown",
   "id": "3254664e-0c52-4859-9a86-05ffe2af0690",
   "metadata": {},
   "source": [
    "### Use model to understand main drivers of churn\n",
    "\n",
    "#### Odds ratios"
   ]
  },
  {
   "cell_type": "code",
   "execution_count": 29,
   "id": "a5c3dd3d-8e87-4893-a05c-41422ec84cf8",
   "metadata": {},
   "outputs": [
    {
     "data": {
      "text/html": [
       "<div>\n",
       "<style scoped>\n",
       "    .dataframe tbody tr th:only-of-type {\n",
       "        vertical-align: middle;\n",
       "    }\n",
       "\n",
       "    .dataframe tbody tr th {\n",
       "        vertical-align: top;\n",
       "    }\n",
       "\n",
       "    .dataframe thead th {\n",
       "        text-align: right;\n",
       "    }\n",
       "</style>\n",
       "<table border=\"1\" class=\"dataframe\">\n",
       "  <thead>\n",
       "    <tr style=\"text-align: right;\">\n",
       "      <th></th>\n",
       "      <th>Odds ratios</th>\n",
       "      <th>std err</th>\n",
       "      <th>z</th>\n",
       "      <th>P&gt;|z|</th>\n",
       "      <th>[0.025</th>\n",
       "      <th>0.975]</th>\n",
       "    </tr>\n",
       "  </thead>\n",
       "  <tbody>\n",
       "    <tr>\n",
       "      <th>revenue</th>\n",
       "      <td>1.002028</td>\n",
       "      <td>0.000778</td>\n",
       "      <td>2.605834</td>\n",
       "      <td>0.009</td>\n",
       "      <td>1.000518</td>\n",
       "      <td>1.003539</td>\n",
       "    </tr>\n",
       "    <tr>\n",
       "      <th>mou</th>\n",
       "      <td>0.999794</td>\n",
       "      <td>0.000040</td>\n",
       "      <td>5.155826</td>\n",
       "      <td>0.000</td>\n",
       "      <td>0.999717</td>\n",
       "      <td>0.999872</td>\n",
       "    </tr>\n",
       "    <tr>\n",
       "      <th>recchrge</th>\n",
       "      <td>0.996746</td>\n",
       "      <td>0.000867</td>\n",
       "      <td>3.751492</td>\n",
       "      <td>0.000</td>\n",
       "      <td>0.995063</td>\n",
       "      <td>0.998429</td>\n",
       "    </tr>\n",
       "    <tr>\n",
       "      <th>overage</th>\n",
       "      <td>1.000748</td>\n",
       "      <td>0.000273</td>\n",
       "      <td>2.740765</td>\n",
       "      <td>0.006</td>\n",
       "      <td>1.000219</td>\n",
       "      <td>1.001278</td>\n",
       "    </tr>\n",
       "    <tr>\n",
       "      <th>roam</th>\n",
       "      <td>1.007515</td>\n",
       "      <td>0.002075</td>\n",
       "      <td>3.620857</td>\n",
       "      <td>0.000</td>\n",
       "      <td>1.003488</td>\n",
       "      <td>1.011541</td>\n",
       "    </tr>\n",
       "    <tr>\n",
       "      <th>changem</th>\n",
       "      <td>0.999488</td>\n",
       "      <td>0.000053</td>\n",
       "      <td>9.644086</td>\n",
       "      <td>0.000</td>\n",
       "      <td>0.999385</td>\n",
       "      <td>0.999591</td>\n",
       "    </tr>\n",
       "    <tr>\n",
       "      <th>changer</th>\n",
       "      <td>1.002328</td>\n",
       "      <td>0.000369</td>\n",
       "      <td>6.304964</td>\n",
       "      <td>0.000</td>\n",
       "      <td>1.001611</td>\n",
       "      <td>1.003044</td>\n",
       "    </tr>\n",
       "    <tr>\n",
       "      <th>unansvce</th>\n",
       "      <td>1.001212</td>\n",
       "      <td>0.000409</td>\n",
       "      <td>2.959391</td>\n",
       "      <td>0.003</td>\n",
       "      <td>1.000417</td>\n",
       "      <td>1.002006</td>\n",
       "    </tr>\n",
       "    <tr>\n",
       "      <th>custcare</th>\n",
       "      <td>0.994638</td>\n",
       "      <td>0.002489</td>\n",
       "      <td>2.154270</td>\n",
       "      <td>0.031</td>\n",
       "      <td>0.989808</td>\n",
       "      <td>0.999467</td>\n",
       "    </tr>\n",
       "    <tr>\n",
       "      <th>threeway</th>\n",
       "      <td>0.980656</td>\n",
       "      <td>0.010632</td>\n",
       "      <td>1.819481</td>\n",
       "      <td>0.069</td>\n",
       "      <td>0.960031</td>\n",
       "      <td>1.001281</td>\n",
       "    </tr>\n",
       "    <tr>\n",
       "      <th>incalls</th>\n",
       "      <td>0.998188</td>\n",
       "      <td>0.000845</td>\n",
       "      <td>2.143882</td>\n",
       "      <td>0.032</td>\n",
       "      <td>0.996548</td>\n",
       "      <td>0.999828</td>\n",
       "    </tr>\n",
       "    <tr>\n",
       "      <th>peakvce</th>\n",
       "      <td>0.999683</td>\n",
       "      <td>0.000196</td>\n",
       "      <td>1.612347</td>\n",
       "      <td>0.107</td>\n",
       "      <td>0.999302</td>\n",
       "      <td>1.000064</td>\n",
       "    </tr>\n",
       "    <tr>\n",
       "      <th>months</th>\n",
       "      <td>0.978631</td>\n",
       "      <td>0.001868</td>\n",
       "      <td>11.436493</td>\n",
       "      <td>0.000</td>\n",
       "      <td>0.975006</td>\n",
       "      <td>0.982256</td>\n",
       "    </tr>\n",
       "    <tr>\n",
       "      <th>uniqsubs</th>\n",
       "      <td>1.203819</td>\n",
       "      <td>0.023988</td>\n",
       "      <td>8.496758</td>\n",
       "      <td>0.000</td>\n",
       "      <td>1.157283</td>\n",
       "      <td>1.250356</td>\n",
       "    </tr>\n",
       "    <tr>\n",
       "      <th>actvsubs</th>\n",
       "      <td>0.811330</td>\n",
       "      <td>0.022568</td>\n",
       "      <td>8.359896</td>\n",
       "      <td>0.000</td>\n",
       "      <td>0.767548</td>\n",
       "      <td>0.855113</td>\n",
       "    </tr>\n",
       "    <tr>\n",
       "      <th>phones</th>\n",
       "      <td>1.056282</td>\n",
       "      <td>0.013462</td>\n",
       "      <td>4.180841</td>\n",
       "      <td>0.000</td>\n",
       "      <td>1.030166</td>\n",
       "      <td>1.082397</td>\n",
       "    </tr>\n",
       "    <tr>\n",
       "      <th>eqpdays</th>\n",
       "      <td>1.001433</td>\n",
       "      <td>0.000073</td>\n",
       "      <td>19.713511</td>\n",
       "      <td>0.000</td>\n",
       "      <td>1.001292</td>\n",
       "      <td>1.001574</td>\n",
       "    </tr>\n",
       "    <tr>\n",
       "      <th>age1</th>\n",
       "      <td>0.996107</td>\n",
       "      <td>0.000667</td>\n",
       "      <td>5.833724</td>\n",
       "      <td>0.000</td>\n",
       "      <td>0.994812</td>\n",
       "      <td>0.997401</td>\n",
       "    </tr>\n",
       "    <tr>\n",
       "      <th>children</th>\n",
       "      <td>1.083032</td>\n",
       "      <td>0.028021</td>\n",
       "      <td>2.963198</td>\n",
       "      <td>0.003</td>\n",
       "      <td>1.028671</td>\n",
       "      <td>1.137393</td>\n",
       "    </tr>\n",
       "    <tr>\n",
       "      <th>credita</th>\n",
       "      <td>0.845865</td>\n",
       "      <td>0.029851</td>\n",
       "      <td>5.163453</td>\n",
       "      <td>0.000</td>\n",
       "      <td>0.787954</td>\n",
       "      <td>0.903776</td>\n",
       "    </tr>\n",
       "    <tr>\n",
       "      <th>creditaa</th>\n",
       "      <td>0.702216</td>\n",
       "      <td>0.024116</td>\n",
       "      <td>12.348204</td>\n",
       "      <td>0.000</td>\n",
       "      <td>0.655431</td>\n",
       "      <td>0.749000</td>\n",
       "    </tr>\n",
       "    <tr>\n",
       "      <th>refurb</th>\n",
       "      <td>1.264262</td>\n",
       "      <td>0.040037</td>\n",
       "      <td>6.600429</td>\n",
       "      <td>0.000</td>\n",
       "      <td>1.186590</td>\n",
       "      <td>1.341934</td>\n",
       "    </tr>\n",
       "    <tr>\n",
       "      <th>webcap</th>\n",
       "      <td>0.852334</td>\n",
       "      <td>0.031897</td>\n",
       "      <td>4.629464</td>\n",
       "      <td>0.000</td>\n",
       "      <td>0.790454</td>\n",
       "      <td>0.914214</td>\n",
       "    </tr>\n",
       "    <tr>\n",
       "      <th>marryun</th>\n",
       "      <td>1.072694</td>\n",
       "      <td>0.030266</td>\n",
       "      <td>2.401810</td>\n",
       "      <td>0.016</td>\n",
       "      <td>1.013977</td>\n",
       "      <td>1.131410</td>\n",
       "    </tr>\n",
       "    <tr>\n",
       "      <th>newcelly</th>\n",
       "      <td>0.931863</td>\n",
       "      <td>0.024671</td>\n",
       "      <td>2.761865</td>\n",
       "      <td>0.006</td>\n",
       "      <td>0.884002</td>\n",
       "      <td>0.979724</td>\n",
       "    </tr>\n",
       "    <tr>\n",
       "      <th>income</th>\n",
       "      <td>0.993206</td>\n",
       "      <td>0.004573</td>\n",
       "      <td>1.485630</td>\n",
       "      <td>0.137</td>\n",
       "      <td>0.984333</td>\n",
       "      <td>1.002078</td>\n",
       "    </tr>\n",
       "    <tr>\n",
       "      <th>setprcm</th>\n",
       "      <td>0.899380</td>\n",
       "      <td>0.036139</td>\n",
       "      <td>2.784210</td>\n",
       "      <td>0.005</td>\n",
       "      <td>0.829270</td>\n",
       "      <td>0.969491</td>\n",
       "    </tr>\n",
       "    <tr>\n",
       "      <th>setprc</th>\n",
       "      <td>1.000586</td>\n",
       "      <td>0.000282</td>\n",
       "      <td>2.077722</td>\n",
       "      <td>0.038</td>\n",
       "      <td>1.000039</td>\n",
       "      <td>1.001133</td>\n",
       "    </tr>\n",
       "    <tr>\n",
       "      <th>retcall</th>\n",
       "      <td>2.097093</td>\n",
       "      <td>0.120986</td>\n",
       "      <td>9.067934</td>\n",
       "      <td>0.000</td>\n",
       "      <td>1.862380</td>\n",
       "      <td>2.331806</td>\n",
       "    </tr>\n",
       "  </tbody>\n",
       "</table>\n",
       "</div>"
      ],
      "text/plain": [
       "          Odds ratios   std err          z  P>|z|    [0.025    0.975]\n",
       "revenue      1.002028  0.000778   2.605834  0.009  1.000518  1.003539\n",
       "mou          0.999794  0.000040   5.155826  0.000  0.999717  0.999872\n",
       "recchrge     0.996746  0.000867   3.751492  0.000  0.995063  0.998429\n",
       "overage      1.000748  0.000273   2.740765  0.006  1.000219  1.001278\n",
       "roam         1.007515  0.002075   3.620857  0.000  1.003488  1.011541\n",
       "changem      0.999488  0.000053   9.644086  0.000  0.999385  0.999591\n",
       "changer      1.002328  0.000369   6.304964  0.000  1.001611  1.003044\n",
       "unansvce     1.001212  0.000409   2.959391  0.003  1.000417  1.002006\n",
       "custcare     0.994638  0.002489   2.154270  0.031  0.989808  0.999467\n",
       "threeway     0.980656  0.010632   1.819481  0.069  0.960031  1.001281\n",
       "incalls      0.998188  0.000845   2.143882  0.032  0.996548  0.999828\n",
       "peakvce      0.999683  0.000196   1.612347  0.107  0.999302  1.000064\n",
       "months       0.978631  0.001868  11.436493  0.000  0.975006  0.982256\n",
       "uniqsubs     1.203819  0.023988   8.496758  0.000  1.157283  1.250356\n",
       "actvsubs     0.811330  0.022568   8.359896  0.000  0.767548  0.855113\n",
       "phones       1.056282  0.013462   4.180841  0.000  1.030166  1.082397\n",
       "eqpdays      1.001433  0.000073  19.713511  0.000  1.001292  1.001574\n",
       "age1         0.996107  0.000667   5.833724  0.000  0.994812  0.997401\n",
       "children     1.083032  0.028021   2.963198  0.003  1.028671  1.137393\n",
       "credita      0.845865  0.029851   5.163453  0.000  0.787954  0.903776\n",
       "creditaa     0.702216  0.024116  12.348204  0.000  0.655431  0.749000\n",
       "refurb       1.264262  0.040037   6.600429  0.000  1.186590  1.341934\n",
       "webcap       0.852334  0.031897   4.629464  0.000  0.790454  0.914214\n",
       "marryun      1.072694  0.030266   2.401810  0.016  1.013977  1.131410\n",
       "newcelly     0.931863  0.024671   2.761865  0.006  0.884002  0.979724\n",
       "income       0.993206  0.004573   1.485630  0.137  0.984333  1.002078\n",
       "setprcm      0.899380  0.036139   2.784210  0.005  0.829270  0.969491\n",
       "setprc       1.000586  0.000282   2.077722  0.038  1.000039  1.001133\n",
       "retcall      2.097093  0.120986   9.067934  0.000  1.862380  2.331806"
      ]
     },
     "execution_count": 29,
     "metadata": {},
     "output_type": "execute_result"
    }
   ],
   "source": [
    "mba263.odds_ratios(res)"
   ]
  },
  {
   "cell_type": "markdown",
   "id": "9cc43480-f71e-49cd-8a52-3a8a5d21700e",
   "metadata": {},
   "source": [
    "### Scaling factors"
   ]
  },
  {
   "cell_type": "code",
   "execution_count": 30,
   "id": "a5b3c130-c179-45b3-8b69-abf1da1bcedc",
   "metadata": {},
   "outputs": [
    {
     "data": {
      "text/plain": [
       "revenue      44.372524\n",
       "mou         536.601264\n",
       "recchrge     24.149383\n",
       "overage      93.803961\n",
       "roam          9.965017\n",
       "changem     249.550642\n",
       "changer      37.459479\n",
       "unansvce     39.718928\n",
       "custcare      5.140100\n",
       "threeway      1.264254\n",
       "incalls      16.395990\n",
       "peakvce     107.365881\n",
       "months        9.992800\n",
       "uniqsubs      0.838612\n",
       "actvsubs      0.626597\n",
       "phones        1.356318\n",
       "eqpdays     250.214987\n",
       "age1         22.107739\n",
       "children      0.427026\n",
       "credita       0.310342\n",
       "creditaa      0.348835\n",
       "refurb        0.339606\n",
       "webcap        0.281835\n",
       "marryun       0.485459\n",
       "newcelly      0.394457\n",
       "income        3.127723\n",
       "setprcm       0.497041\n",
       "setprc       57.561782\n",
       "retcall       0.158540\n",
       "dtype: float64"
      ]
     },
     "execution_count": 30,
     "metadata": {},
     "output_type": "execute_result"
    }
   ],
   "source": [
    "x_std = data_validation[varlist].std()\n",
    "x_std"
   ]
  },
  {
   "cell_type": "markdown",
   "id": "c782ad85-1a1c-4ff4-81a6-8394a1c5648b",
   "metadata": {},
   "source": [
    "### Pull odds ratios"
   ]
  },
  {
   "cell_type": "code",
   "execution_count": 31,
   "id": "2d833386-4f6f-4499-87dd-0b4f57dcd8e5",
   "metadata": {},
   "outputs": [
    {
     "data": {
      "text/plain": [
       "revenue     1.002028\n",
       "mou         0.999794\n",
       "recchrge    0.996746\n",
       "overage     1.000748\n",
       "roam        1.007515\n",
       "changem     0.999488\n",
       "changer     1.002328\n",
       "unansvce    1.001212\n",
       "custcare    0.994638\n",
       "threeway    0.980656\n",
       "incalls     0.998188\n",
       "peakvce     0.999683\n",
       "months      0.978631\n",
       "uniqsubs    1.203819\n",
       "actvsubs    0.811330\n",
       "phones      1.056282\n",
       "eqpdays     1.001433\n",
       "age1        0.996107\n",
       "children    1.083032\n",
       "credita     0.845865\n",
       "creditaa    0.702216\n",
       "refurb      1.264262\n",
       "webcap      0.852334\n",
       "marryun     1.072694\n",
       "newcelly    0.931863\n",
       "income      0.993206\n",
       "setprcm     0.899380\n",
       "setprc      1.000586\n",
       "retcall     2.097093\n",
       "Name: Odds ratios, dtype: float64"
      ]
     },
     "execution_count": 31,
     "metadata": {},
     "output_type": "execute_result"
    }
   ],
   "source": [
    "odds_ratios = mba263.odds_ratios(res)['Odds ratios']\n",
    "odds_ratios"
   ]
  },
  {
   "cell_type": "markdown",
   "id": "074f902e-13f0-4f73-b858-ae48831917ef",
   "metadata": {},
   "source": [
    "### Normalize"
   ]
  },
  {
   "cell_type": "code",
   "execution_count": 32,
   "id": "4ac352fa-3993-46ca-8425-1e8fcc12e2e1",
   "metadata": {},
   "outputs": [],
   "source": [
    "normalized_odds_ratios = np.power(odds_ratios, x_std)"
   ]
  },
  {
   "cell_type": "code",
   "execution_count": 33,
   "id": "7efbe458-8a88-43a8-83e5-ed1b2bb2b3e7",
   "metadata": {},
   "outputs": [
    {
     "data": {
      "text/plain": [
       "revenue     1.094082\n",
       "mou         0.895548\n",
       "recchrge    0.924300\n",
       "overage     1.072682\n",
       "roam        1.077457\n",
       "changem     0.880071\n",
       "changer     1.090994\n",
       "unansvce    1.049275\n",
       "custcare    0.972741\n",
       "threeway    0.975607\n",
       "incalls     0.970698\n",
       "peakvce     0.966565\n",
       "months      0.805856\n",
       "uniqsubs    1.168314\n",
       "actvsubs    0.877210\n",
       "phones      1.077092\n",
       "eqpdays     1.430890\n",
       "age1        0.917373\n",
       "children    1.034648\n",
       "credita     0.949377\n",
       "creditaa    0.883982\n",
       "refurb      1.082890\n",
       "webcap      0.955968\n",
       "marryun     1.034653\n",
       "newcelly    0.972547\n",
       "income      0.978903\n",
       "setprcm     0.948654\n",
       "setprc      1.034279\n",
       "retcall     1.124577\n",
       "dtype: float64"
      ]
     },
     "execution_count": 33,
     "metadata": {},
     "output_type": "execute_result"
    }
   ],
   "source": [
    "normalized_odds_ratios"
   ]
  },
  {
   "cell_type": "markdown",
   "id": "63ca1fa3-d255-468d-b0cf-16c5c3bbdc03",
   "metadata": {},
   "source": [
    "### Reverse and rank"
   ]
  },
  {
   "cell_type": "code",
   "execution_count": 34,
   "id": "426dbbf0-68f3-425d-a4d7-f0885ae5d4bc",
   "metadata": {},
   "outputs": [],
   "source": [
    "normalized_odds_ratios[normalized_odds_ratios < 1] = 1 / normalized_odds_ratios[normalized_odds_ratios < 1]"
   ]
  },
  {
   "cell_type": "code",
   "execution_count": 35,
   "id": "1c5f2fdc-03b9-44b8-8f14-cfae341e3d6b",
   "metadata": {},
   "outputs": [
    {
     "data": {
      "text/plain": [
       "eqpdays     1.430890\n",
       "months      1.240917\n",
       "uniqsubs    1.168314\n",
       "actvsubs    1.139978\n",
       "changem     1.136272\n",
       "creditaa    1.131245\n",
       "retcall     1.124577\n",
       "mou         1.116635\n",
       "revenue     1.094082\n",
       "changer     1.090994\n",
       "age1        1.090070\n",
       "refurb      1.082890\n",
       "recchrge    1.081899\n",
       "roam        1.077457\n",
       "phones      1.077092\n",
       "overage     1.072682\n",
       "setprcm     1.054125\n",
       "credita     1.053323\n",
       "unansvce    1.049275\n",
       "webcap      1.046060\n",
       "marryun     1.034653\n",
       "children    1.034648\n",
       "peakvce     1.034591\n",
       "setprc      1.034279\n",
       "incalls     1.030187\n",
       "newcelly    1.028228\n",
       "custcare    1.028023\n",
       "threeway    1.025003\n",
       "income      1.021552\n",
       "dtype: float64"
      ]
     },
     "execution_count": 35,
     "metadata": {},
     "output_type": "execute_result"
    }
   ],
   "source": [
    "normalized_odds_ratios.sort_values(ascending = False)"
   ]
  },
  {
   "cell_type": "code",
   "execution_count": null,
   "id": "54be7a33-4aec-490d-a7bc-e7aa0c55978b",
   "metadata": {},
   "outputs": [],
   "source": []
  },
  {
   "cell_type": "code",
   "execution_count": null,
   "id": "7ef3e17b-9728-4c73-a4a7-a5144e6a9341",
   "metadata": {},
   "outputs": [],
   "source": []
  },
  {
   "cell_type": "code",
   "execution_count": null,
   "id": "683d6265-9be4-4f65-8ead-651eec896b0b",
   "metadata": {},
   "outputs": [],
   "source": []
  },
  {
   "cell_type": "code",
   "execution_count": null,
   "id": "7c61d3d3-4bc7-4259-b41d-e442281189aa",
   "metadata": {},
   "outputs": [],
   "source": []
  },
  {
   "cell_type": "code",
   "execution_count": 36,
   "id": "50688ec7-caf5-4e20-b22c-26013ba678f9",
   "metadata": {},
   "outputs": [],
   "source": [
    "# Run >> result_calibration_logit.summary()"
   ]
  },
  {
   "cell_type": "code",
   "execution_count": 37,
   "id": "ebb0c66f-2243-4785-8918-3b3a0c473061",
   "metadata": {},
   "outputs": [],
   "source": [
    "# Choose the variables that have P-value less than 0.05\n",
    "# significant_variables=['revenue','mou','recchrge','overage','roam','changem','changer','unansvce','custcare',\n",
    "#                       'threeway','incalls','peakvce','months','uniqsubs','actvsubs','phones','eqpdays','age1',\n",
    "#                       'children','credita','creditaa','refurb','webcap','marryun','newcelly','income','setprcm',\n",
    "#                       'setprc','retcall']"
   ]
  },
  {
   "cell_type": "code",
   "execution_count": 38,
   "id": "12386226-57ad-4104-afb6-3c3134e6d82c",
   "metadata": {},
   "outputs": [],
   "source": [
    "# x_new_calibration=x_calibration[significant_variables] "
   ]
  },
  {
   "cell_type": "code",
   "execution_count": 39,
   "id": "dab7c887-ca2d-4785-8eea-fc86b6068a92",
   "metadata": {},
   "outputs": [],
   "source": [
    "# result_new_calibration_logit = mba263.logit(y_calibration, x_new_calibration)"
   ]
  },
  {
   "cell_type": "code",
   "execution_count": 40,
   "id": "009bafcc-a556-4fc2-b5bf-48eafd85697b",
   "metadata": {},
   "outputs": [],
   "source": [
    "# Run >> result_new_calibration_logit.summary()"
   ]
  },
  {
   "cell_type": "markdown",
   "id": "6860dabe-1c4e-46e9-b490-5c054cbf1186",
   "metadata": {},
   "source": [
    "#### 1. Briefly describe your predictive churn model. How did you select variables to be included in the model?"
   ]
  },
  {
   "cell_type": "markdown",
   "id": "eedb0307-4eee-4c88-891e-67516dbe8cbd",
   "metadata": {},
   "source": [
    "Eliminate the variables that have p-value < 0.05 in the initial stage."
   ]
  },
  {
   "cell_type": "code",
   "execution_count": 41,
   "id": "0df295c7-d2f8-4ebd-bf24-35c304bd2978",
   "metadata": {},
   "outputs": [],
   "source": [
    "# x_new_calibration['predchurn'] = result_new_calibration_logit.predict(x_new_calibration)"
   ]
  },
  {
   "cell_type": "code",
   "execution_count": 42,
   "id": "0521fb9b-0207-4364-b833-5482c719c6dc",
   "metadata": {},
   "outputs": [],
   "source": [
    "# x_new_calibration['predchurn'].head()"
   ]
  },
  {
   "cell_type": "code",
   "execution_count": 43,
   "id": "399302e6-6136-41e0-9a78-888e32ccdd45",
   "metadata": {},
   "outputs": [],
   "source": [
    "# x_new_calibration['grading']=10-mba263.ntile(x_new_calibration['predchurn'],10)"
   ]
  },
  {
   "cell_type": "code",
   "execution_count": 44,
   "id": "188c5776-5cdd-4e7c-bd06-79d79a454e88",
   "metadata": {},
   "outputs": [],
   "source": [
    "# x_new_calibration['grading'],y_calibration.groupby('grading').mean().plot()\n",
    "# x_new_calibration"
   ]
  },
  {
   "cell_type": "code",
   "execution_count": 45,
   "id": "7ea4d685-cf7c-4f30-b7c8-28762c508295",
   "metadata": {},
   "outputs": [],
   "source": [
    "# x_new_calibration['grading']"
   ]
  },
  {
   "cell_type": "code",
   "execution_count": null,
   "id": "c40e6065-c95a-46d6-a65b-5a0aaf624525",
   "metadata": {},
   "outputs": [],
   "source": []
  }
 ],
 "metadata": {
  "kernelspec": {
   "display_name": "Python 3 (ipykernel)",
   "language": "python",
   "name": "python3"
  },
  "language_info": {
   "codemirror_mode": {
    "name": "ipython",
    "version": 3
   },
   "file_extension": ".py",
   "mimetype": "text/x-python",
   "name": "python",
   "nbconvert_exporter": "python",
   "pygments_lexer": "ipython3",
   "version": "3.7.11"
  }
 },
 "nbformat": 4,
 "nbformat_minor": 5
}
